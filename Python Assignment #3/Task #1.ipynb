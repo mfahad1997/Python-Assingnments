{
 "cells": [
  {
   "cell_type": "code",
   "execution_count": 2,
   "metadata": {},
   "outputs": [
    {
     "name": "stdout",
     "output_type": "stream",
     "text": [
      "Enter First Number = 2\n",
      "Enter Second Number = 8\n",
      "Enter Operator: **\n",
      "\n",
      "Power of Numbers= 256\n"
     ]
    }
   ],
   "source": [
    "FirstNumber = int(input(\"Enter First Number = \"))\n",
    "SecondNumber= int(input(\"Enter Second Number = \"))\n",
    "operator = input(\"Enter Operator: \")\n",
    "\n",
    "if operator == '+':\n",
    "    num = FirstNumber + SecondNumber\n",
    "    print(\"\\nSum of Numbers =\",num)\n",
    "elif operator == '-':\n",
    "    num = FirstNumber - SecondNumber\n",
    "    print(\"\\nDifference of Numbers =\",num)\n",
    "elif operator == '*':\n",
    "    num = FirstNumber * SecondNumber\n",
    "    print(\"\\nMultiplication of Numbers =\",num)\n",
    "elif operator == '/':\n",
    "    num = FirstNumber / SecondNumber\n",
    "    print(\"\\nDivision of Numbers =\",num)\n",
    "elif operator == '**':\n",
    "    num = FirstNumber ** SecondNumber\n",
    "    print(\"\\nPower of Numbers=\",num)\n",
    "else :\n",
    "    print(\"\\nInvalid Input\")"
   ]
  },
  {
   "cell_type": "code",
   "execution_count": null,
   "metadata": {},
   "outputs": [],
   "source": []
  }
 ],
 "metadata": {
  "kernelspec": {
   "display_name": "Python 3",
   "language": "python",
   "name": "python3"
  },
  "language_info": {
   "codemirror_mode": {
    "name": "ipython",
    "version": 3
   },
   "file_extension": ".py",
   "mimetype": "text/x-python",
   "name": "python",
   "nbconvert_exporter": "python",
   "pygments_lexer": "ipython3",
   "version": "3.7.4"
  }
 },
 "nbformat": 4,
 "nbformat_minor": 2
}
