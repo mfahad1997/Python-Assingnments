{
 "cells": [
  {
   "cell_type": "code",
   "execution_count": 1,
   "metadata": {},
   "outputs": [
    {
     "name": "stdout",
     "output_type": "stream",
     "text": [
      "Key Exists\n"
     ]
    }
   ],
   "source": [
    "di = {\n",
    "    \"f_name\":\"MUHAMMAD\",\n",
    "    \"l_name\":\"FAHAD\",\n",
    "    \"University\":\"NEDUET\",\n",
    "} \n",
    "if \"f_name\" in di.keys():\n",
    "    print (\"Key Exists\")\n",
    "else:\n",
    "    print (\"Key Doesn't Exist \")\n"
   ]
  },
  {
   "cell_type": "code",
   "execution_count": null,
   "metadata": {},
   "outputs": [],
   "source": []
  }
 ],
 "metadata": {
  "kernelspec": {
   "display_name": "Python 3",
   "language": "python",
   "name": "python3"
  },
  "language_info": {
   "codemirror_mode": {
    "name": "ipython",
    "version": 3
   },
   "file_extension": ".py",
   "mimetype": "text/x-python",
   "name": "python",
   "nbconvert_exporter": "python",
   "pygments_lexer": "ipython3",
   "version": "3.7.4"
  }
 },
 "nbformat": 4,
 "nbformat_minor": 2
}
