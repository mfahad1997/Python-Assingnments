{
 "cells": [
  {
   "cell_type": "code",
   "execution_count": 4,
   "metadata": {},
   "outputs": [
    {
     "name": "stdout",
     "output_type": "stream",
     "text": [
      "Duplicate Number =  200\n",
      "Duplicate Number =  350\n"
     ]
    }
   ],
   "source": [
    "list = [100, 200, 350, 512, 843, 200, 350, 52,124,253,850]\n",
    "for x in range(0,len(list)):\n",
    "    for y in range(x+1, len(list)):\n",
    "        if (list[x]) == list[y]:\n",
    "            print(\"Duplicate Number = \",list[y])"
   ]
  },
  {
   "cell_type": "code",
   "execution_count": null,
   "metadata": {},
   "outputs": [],
   "source": []
  }
 ],
 "metadata": {
  "kernelspec": {
   "display_name": "Python 3",
   "language": "python",
   "name": "python3"
  },
  "language_info": {
   "codemirror_mode": {
    "name": "ipython",
    "version": 3
   },
   "file_extension": ".py",
   "mimetype": "text/x-python",
   "name": "python",
   "nbconvert_exporter": "python",
   "pygments_lexer": "ipython3",
   "version": "3.7.4"
  }
 },
 "nbformat": 4,
 "nbformat_minor": 2
}
