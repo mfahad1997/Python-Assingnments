{
 "cells": [
  {
   "cell_type": "code",
   "execution_count": 1,
   "metadata": {},
   "outputs": [
    {
     "name": "stdout",
     "output_type": "stream",
     "text": [
      "Before Addition  {'FirstName': 'MUHAMMAD', 'LastName': 'FAHAD'}\n",
      "After  Addition  {'FirstName': 'MUHAMMAD', 'LastName': 'FAHAD', 'University': 'NEDUET'}\n"
     ]
    }
   ],
   "source": [
    "di = {\"FirstName\" : \"MUHAMMAD\" ,\"LastName\": \"FAHAD\"}\n",
    "print(\"Before Addition \",di)\n",
    "di.update({\"University\": \"NEDUET\"})\n",
    "print(\"After  Addition \",di)"
   ]
  },
  {
   "cell_type": "code",
   "execution_count": null,
   "metadata": {},
   "outputs": [],
   "source": []
  }
 ],
 "metadata": {
  "kernelspec": {
   "display_name": "Python 3",
   "language": "python",
   "name": "python3"
  },
  "language_info": {
   "codemirror_mode": {
    "name": "ipython",
    "version": 3
   },
   "file_extension": ".py",
   "mimetype": "text/x-python",
   "name": "python",
   "nbconvert_exporter": "python",
   "pygments_lexer": "ipython3",
   "version": "3.7.4"
  }
 },
 "nbformat": 4,
 "nbformat_minor": 2
}
