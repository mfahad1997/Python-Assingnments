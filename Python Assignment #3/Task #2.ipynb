{
 "cells": [
  {
   "cell_type": "code",
   "execution_count": 6,
   "metadata": {},
   "outputs": [
    {
     "name": "stdout",
     "output_type": "stream",
     "text": [
      "78  = It's Numeric Value\n",
      "25  = It's Numeric Value\n",
      "36  = It's Numeric Value\n",
      "100  = It's Numeric Value\n",
      "It's A String\n",
      "235  = It's Numeric Value\n",
      "It's A String\n",
      "60.1233  = It's Numeric Value\n"
     ]
    }
   ],
   "source": [
    "list = [78, 25, 36, 100, 'fahad' ,235,'hasnain',60.1233]\n",
    "for num in list :\n",
    "    if type(num) == int or type(num) == float:\n",
    "        print(num,\" = It's Numeric Value\")\n",
    "    else:\n",
    "        print(\"It's A String\")"
   ]
  },
  {
   "cell_type": "code",
   "execution_count": null,
   "metadata": {},
   "outputs": [],
   "source": []
  }
 ],
 "metadata": {
  "kernelspec": {
   "display_name": "Python 3",
   "language": "python",
   "name": "python3"
  },
  "language_info": {
   "codemirror_mode": {
    "name": "ipython",
    "version": 3
   },
   "file_extension": ".py",
   "mimetype": "text/x-python",
   "name": "python",
   "nbconvert_exporter": "python",
   "pygments_lexer": "ipython3",
   "version": "3.7.4"
  }
 },
 "nbformat": 4,
 "nbformat_minor": 2
}
