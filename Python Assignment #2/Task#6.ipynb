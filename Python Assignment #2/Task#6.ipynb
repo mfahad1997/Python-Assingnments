{
 "cells": [
  {
   "cell_type": "code",
   "execution_count": 4,
   "metadata": {},
   "outputs": [
    {
     "name": "stdout",
     "output_type": "stream",
     "text": [
      "Total Number In The Given List :  12 \n",
      "\n",
      "Number Less than 5=  1\n",
      "Number Less than 5=  2\n",
      "Number Less than 5=  3\n",
      "Number Less than 5=  4\n"
     ]
    }
   ],
   "source": [
    "numberlist = [1,2,3,4,5,6,7,99,10]\n",
    "length = int(len(numberlist))\n",
    "print(\"Total Number In The Given List : \",listlength,  \"\\n\")\n",
    "for x in numberlist:\n",
    "    if x < 5:\n",
    "        print(\"Number Less than 5= \", x)"
   ]
  },
  {
   "cell_type": "code",
   "execution_count": null,
   "metadata": {},
   "outputs": [],
   "source": []
  }
 ],
 "metadata": {
  "kernelspec": {
   "display_name": "Python 3",
   "language": "python",
   "name": "python3"
  },
  "language_info": {
   "codemirror_mode": {
    "name": "ipython",
    "version": 3
   },
   "file_extension": ".py",
   "mimetype": "text/x-python",
   "name": "python",
   "nbconvert_exporter": "python",
   "pygments_lexer": "ipython3",
   "version": "3.7.4"
  }
 },
 "nbformat": 4,
 "nbformat_minor": 2
}
