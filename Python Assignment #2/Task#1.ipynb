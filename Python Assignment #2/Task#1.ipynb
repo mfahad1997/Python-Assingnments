{
 "cells": [
  {
   "cell_type": "code",
   "execution_count": 1,
   "metadata": {},
   "outputs": [
    {
     "name": "stdout",
     "output_type": "stream",
     "text": [
      "Enter marks of the Chemistry subject:99\n",
      "Enter marks of the Physics subject: 95\n",
      "Enter marks of the Mathematics subject: 90\n",
      "Enter marks of the Islamiat subject: 90\n",
      "Enter marks of the English subject: 80\n",
      "Total Marks = 454\n",
      "Total Avg = 90.8\n",
      "Grade: A+\n"
     ]
    }
   ],
   "source": [
    "Chemistry=int(input(\"Enter marks of the Chemistry subject:\" ))\n",
    "Physics=int(input(\"Enter marks of the Physics subject: \"))\n",
    "Mathematics=int(input(\"Enter marks of the Mathematics subject: \"))\n",
    "Islamiat=int(input(\"Enter marks of the Islamiat subject: \"))\n",
    "English=int(input(\"Enter marks of the English subject: \"))\n",
    "\n",
    "totalmarks = Chemistry+Physics+Mathematics+Islamiat+English\n",
    "print(\"Total Marks =\",totalmarks) \n",
    "avg=(totalmarks/500)*100\n",
    "print(\"Total Avg =\",avg) \n",
    "if(avg>=90):\n",
    "    print(\"Grade: A+\")\n",
    "elif(avg>=80 or avg<90):\n",
    "    print(\"Grade: A\")\n",
    "elif(avg>=70 or avg<80):\n",
    "    print(\"Grade: B\")\n",
    "elif(avg>=60 or avg<70):\n",
    "    print(\"Grade: C\")\n",
    "else:\n",
    "    print(\"Grade: F\")"
   ]
  },
  {
   "cell_type": "code",
   "execution_count": null,
   "metadata": {},
   "outputs": [],
   "source": []
  }
 ],
 "metadata": {
  "kernelspec": {
   "display_name": "Python 3",
   "language": "python",
   "name": "python3"
  },
  "language_info": {
   "codemirror_mode": {
    "name": "ipython",
    "version": 3
   },
   "file_extension": ".py",
   "mimetype": "text/x-python",
   "name": "python",
   "nbconvert_exporter": "python",
   "pygments_lexer": "ipython3",
   "version": "3.7.4"
  }
 },
 "nbformat": 4,
 "nbformat_minor": 2
}
